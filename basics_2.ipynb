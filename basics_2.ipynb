{
  "nbformat": 4,
  "nbformat_minor": 0,
  "metadata": {
    "colab": {
      "name": "basics 2",
      "provenance": [],
      "collapsed_sections": []
    },
    "kernelspec": {
      "name": "python3",
      "display_name": "Python 3"
    }
  },
  "cells": [
    {
      "cell_type": "code",
      "metadata": {
        "colab": {
          "base_uri": "https://localhost:8080/"
        },
        "id": "QSqvaFVWcWSt",
        "outputId": "bc278ff1-1582-48ff-ce9d-51762090ea17"
      },
      "source": [
        "name=\"Shinma N P(that\\'s me)\"#This is a string. \n",
        "work=\"Curvelogics,Trivandrum\"#This is also a string.\n",
        "sites='''You can find me online on sites like Facebook & Twitter'''#This is a multi-line string.\n",
        "print(name)\n",
        "print(len(name))#Length of a string \n",
        "print(work)\n",
        "print(sites)"
      ],
      "execution_count": null,
      "outputs": [
        {
          "output_type": "stream",
          "text": [
            "Shinma N P(that's me)\n",
            "21\n",
            "Curvelogics,Trivandrum\n",
            "You can find me online on sites like Facebook & Twitter\n"
          ],
          "name": "stdout"
        }
      ]
    },
    {
      "cell_type": "code",
      "metadata": {
        "colab": {
          "base_uri": "https://localhost:8080/"
        },
        "id": "_K5f_vtefn7h",
        "outputId": "74b47075-9e86-4f04-d797-c80913e3f2bd"
      },
      "source": [
        "print(\"Hello \\t World\")\n"
      ],
      "execution_count": null,
      "outputs": [
        {
          "output_type": "stream",
          "text": [
            "Hello \t World\n"
          ],
          "name": "stdout"
        }
      ]
    },
    {
      "cell_type": "code",
      "metadata": {
        "colab": {
          "base_uri": "https://localhost:8080/"
        },
        "id": "U0zu41QxgXeM",
        "outputId": "719d4fc1-9efb-4fa8-f58d-d6cec4f053f0"
      },
      "source": [
        "print(\"Hello \\n World\")"
      ],
      "execution_count": null,
      "outputs": [
        {
          "output_type": "stream",
          "text": [
            "Hello \n",
            " World\n"
          ],
          "name": "stdout"
        }
      ]
    },
    {
      "cell_type": "code",
      "metadata": {
        "colab": {
          "base_uri": "https://localhost:8080/"
        },
        "id": "JeHC34WjgjGq",
        "outputId": "565b9a28-feae-409e-f32f-45bbd152263e"
      },
      "source": [
        "first_sent=\"Hi everyone\"\n",
        "second_sent=\"Is this class interesting?\"\n",
        "print(first_sent + \"\\t\" + second_sent)#Concatenation\n",
        "print(first_sent * 2)#Multiply the string"
      ],
      "execution_count": null,
      "outputs": [
        {
          "output_type": "stream",
          "text": [
            "Hi everyone\tIs this class interesting?\n",
            "Hi everyoneHi everyone\n"
          ],
          "name": "stdout"
        }
      ]
    },
    {
      "cell_type": "code",
      "metadata": {
        "colab": {
          "base_uri": "https://localhost:8080/"
        },
        "id": "JHwsRibrjLsk",
        "outputId": "5555bcb6-b8e3-4fbf-950a-c1049f0d37b4"
      },
      "source": [
        "print(first_sent.count('e'))#Count the no: of appearance of 'e'.\n",
        "print(first_sent.replace(\"Hi\",\"Bye\"))#Replace word."
      ],
      "execution_count": null,
      "outputs": [
        {
          "output_type": "stream",
          "text": [
            "3\n",
            "Bye everyone\n"
          ],
          "name": "stdout"
        }
      ]
    },
    {
      "cell_type": "code",
      "metadata": {
        "colab": {
          "base_uri": "https://localhost:8080/"
        },
        "id": "WBBZdTsDkBNt",
        "outputId": "297773e5-94a1-494d-b703-5b5d895ddcd4"
      },
      "source": [
        "company=\"Curvelogics Advanced Technology Solutions Pvt Ltd\"\n",
        "str1=\"Tech\"\n",
        "company.find(str1)\n",
        "print(company.find(str1))\n",
        "#Check the output\n",
        "str2=\"Hello\"\n",
        "company.find(str2)\n",
        "print(company.find(str2))\n",
        "print(company.count(''))#count the space\n",
        "print(company.count('c'))#count the letter c"
      ],
      "execution_count": null,
      "outputs": [
        {
          "output_type": "stream",
          "text": [
            "21\n",
            "-1\n",
            "50\n",
            "3\n"
          ],
          "name": "stdout"
        }
      ]
    },
    {
      "cell_type": "code",
      "metadata": {
        "colab": {
          "base_uri": "https://localhost:8080/"
        },
        "id": "q-7IX64bmbjH",
        "outputId": "68763873-f129-416b-e650-519ae672fbbb"
      },
      "source": [
        "company=\"Aura Education Society\"\n",
        "company.split()\n",
        "print(company.split())\n",
        "#I want to split the fruits\n",
        "fruits=\"Apple,Orange,Grapes,Mango\"\n",
        "fruits.split(\",\")\n",
        "print(fruits.split(\",\"))\n",
        "#Split the site address\n",
        "address=\"www.gmail.com\"\n",
        "address.split(\".\")\n",
        "print(address.split(\".\"))\n"
      ],
      "execution_count": null,
      "outputs": [
        {
          "output_type": "stream",
          "text": [
            "['Aura', 'Education', 'Society']\n",
            "['Apple', 'Orange', 'Grapes', 'Mango']\n",
            "['www', 'gmail', 'com']\n"
          ],
          "name": "stdout"
        }
      ]
    },
    {
      "cell_type": "code",
      "metadata": {
        "colab": {
          "base_uri": "https://localhost:8080/"
        },
        "id": "GYlZOpJkoj-Z",
        "outputId": "f2c78b3f-03df-4867-c9d0-661e96d7ce9d"
      },
      "source": [
        "string =\"Hello World\"\n",
        "print(string.upper())#Convert string to uppercase.\n",
        "print(string.lower ())#Convert string to lowercase.\n",
        "print(string.title())#Convert string to title form \n",
        "print(string.capitalize())#Convert first letter of string to uppercase.\n",
        "print(string.swapcase())#swap the string to uppercase to lowercase"
      ],
      "execution_count": null,
      "outputs": [
        {
          "output_type": "stream",
          "text": [
            "HELLO WORLD\n",
            "hello world\n",
            "Hello World\n",
            "Hello world\n",
            "hELLO wORLD\n"
          ],
          "name": "stdout"
        }
      ]
    },
    {
      "cell_type": "code",
      "metadata": {
        "colab": {
          "base_uri": "https://localhost:8080/"
        },
        "id": "jN0fOIpPp8gA",
        "outputId": "91baff46-0f18-43af-8e7e-260fd5ae184c"
      },
      "source": [
        "word=\"  xyz  \"\n",
        "print(word.strip())#removes the both ends\n",
        "print(word.lstrip())#removes leading characters (left strip)\n",
        "print(word.rstrip())#removes trailing characters (right strip)"
      ],
      "execution_count": null,
      "outputs": [
        {
          "output_type": "stream",
          "text": [
            "xyz\n",
            "xyz  \n",
            "  xyz\n"
          ],
          "name": "stdout"
        }
      ]
    },
    {
      "cell_type": "code",
      "metadata": {
        "colab": {
          "base_uri": "https://localhost:8080/"
        },
        "id": "QzVc1ch6sOuT",
        "outputId": "9b8d325b-9257-422a-ef93-a81693c3f3b4"
      },
      "source": [
        "word=\"Hello world\"\n",
        "print(\":\".join(word))#join the string by adding the delimiter \":\" between every char\n",
        "print(\" \".join (word))# join the string by adding the delimiter \"space\" between every char"
      ],
      "execution_count": null,
      "outputs": [
        {
          "output_type": "stream",
          "text": [
            "H:e:l:l:o: :w:o:r:l:d\n",
            "H e l l o   w o r l d\n"
          ],
          "name": "stdout"
        }
      ]
    },
    {
      "cell_type": "code",
      "metadata": {
        "colab": {
          "base_uri": "https://localhost:8080/"
        },
        "id": "hpvsQZPMuN_j",
        "outputId": "e9b0d38a-b80b-43b2-b592-b30129fbc046"
      },
      "source": [
        "print(''.join (reversed(word)))#Reverse the string "
      ],
      "execution_count": null,
      "outputs": [
        {
          "output_type": "stream",
          "text": [
            "dlrow olleH\n"
          ],
          "name": "stdout"
        }
      ]
    },
    {
      "cell_type": "code",
      "metadata": {
        "colab": {
          "base_uri": "https://localhost:8080/"
        },
        "id": "VU-WWPSBuop-",
        "outputId": "5ed109ab-f027-4516-fd83-1fb69457414e"
      },
      "source": [
        "names=['Ram','John','Emy']\n",
        "print(names[0])\n",
        "print(names[-1])\n"
      ],
      "execution_count": null,
      "outputs": [
        {
          "output_type": "stream",
          "text": [
            "Ram\n",
            "Emy\n"
          ],
          "name": "stdout"
        }
      ]
    },
    {
      "cell_type": "code",
      "metadata": {
        "colab": {
          "base_uri": "https://localhost:8080/"
        },
        "id": "ibkqVFDxZKSs",
        "outputId": "0dcc82a7-771f-4d02-bd80-5ff8242f3ff8"
      },
      "source": [
        "names=['Ram','John','Emy']\n",
        "names[0]=\"Annie\"\n",
        "print(names)"
      ],
      "execution_count": null,
      "outputs": [
        {
          "output_type": "stream",
          "text": [
            "['Annie', 'John', 'Emy']\n"
          ],
          "name": "stdout"
        }
      ]
    },
    {
      "cell_type": "code",
      "metadata": {
        "colab": {
          "base_uri": "https://localhost:8080/"
        },
        "id": "RM4wSxoLZ1l2",
        "outputId": "a94356a5-60f2-400c-8dd1-51902ddaa608"
      },
      "source": [
        "names=['Ram','John','Emy']\n",
        "names.append(\"Jose\")\n",
        "names.insert(0,'Ravi')\n",
        "print(names)"
      ],
      "execution_count": null,
      "outputs": [
        {
          "output_type": "stream",
          "text": [
            "['Ravi', 'Ram', 'John', 'Emy', 'Jose']\n"
          ],
          "name": "stdout"
        }
      ]
    },
    {
      "cell_type": "code",
      "metadata": {
        "colab": {
          "base_uri": "https://localhost:8080/"
        },
        "id": "4czSzVoPaJt-",
        "outputId": "6984d075-72be-44ee-846e-dd266d409859"
      },
      "source": [
        "names=['Ram','John','Ravi']\n",
        "names.remove('Ravi')\n",
        "print(names)\n",
        "len(names)"
      ],
      "execution_count": null,
      "outputs": [
        {
          "output_type": "stream",
          "text": [
            "['Ram', 'John']\n"
          ],
          "name": "stdout"
        },
        {
          "output_type": "execute_result",
          "data": {
            "text/plain": [
              "2"
            ]
          },
          "metadata": {
            "tags": []
          },
          "execution_count": 18
        }
      ]
    },
    {
      "cell_type": "code",
      "metadata": {
        "colab": {
          "base_uri": "https://localhost:8080/"
        },
        "id": "_6GMkQbCa__v",
        "outputId": "00c478ed-3798-40cd-83b2-eb0348843f53"
      },
      "source": [
        "names=['Ram','Annie','John','Ravi','Emy']\n",
        "names.sort()\n",
        "print(names)\n",
        "names.sort(reverse=True)\n",
        "print(names)\n"
      ],
      "execution_count": null,
      "outputs": [
        {
          "output_type": "stream",
          "text": [
            "['Annie', 'Emy', 'John', 'Ram', 'Ravi']\n",
            "['Ravi', 'Ram', 'John', 'Emy', 'Annie']\n"
          ],
          "name": "stdout"
        }
      ]
    },
    {
      "cell_type": "code",
      "metadata": {
        "colab": {
          "base_uri": "https://localhost:8080/"
        },
        "id": "nKtOJfLphwPG",
        "outputId": "e9c8286e-6927-41f6-edb1-32e79482e0ce"
      },
      "source": [
        "names=['Ram','Annie','John','Ravi','Emy']\n",
        "print(names[0:3])"
      ],
      "execution_count": null,
      "outputs": [
        {
          "output_type": "stream",
          "text": [
            "['Ram', 'Annie', 'John']\n"
          ],
          "name": "stdout"
        }
      ]
    },
    {
      "cell_type": "code",
      "metadata": {
        "colab": {
          "base_uri": "https://localhost:8080/"
        },
        "id": "vQCIGAoxizVL",
        "outputId": "aa7579b7-b764-4b50-c925-8e48ae36a27a"
      },
      "source": [
        "dimensions=(200,50)\n",
        "print(dimensions[0])\n",
        "print(dimensions[1])"
      ],
      "execution_count": null,
      "outputs": [
        {
          "output_type": "stream",
          "text": [
            "200\n",
            "50\n"
          ],
          "name": "stdout"
        }
      ]
    },
    {
      "cell_type": "code",
      "metadata": {
        "colab": {
          "base_uri": "https://localhost:8080/"
        },
        "id": "fH2ZNT0bjDuu",
        "outputId": "6029150c-91f3-4ab8-a0cc-05b3726de426"
      },
      "source": [
        "company={}\n",
        "company['name']=\"Aura\"\n",
        "print(company)\n",
        "company['place']=\"Trivandrum\"\n",
        "print(company)\n",
        "print(company.values())"
      ],
      "execution_count": null,
      "outputs": [
        {
          "output_type": "stream",
          "text": [
            "{'name': 'Aura'}\n",
            "{'name': 'Aura', 'place': 'Trivandrum'}\n",
            "dict_values(['Aura', 'Trivandrum'])\n"
          ],
          "name": "stdout"
        }
      ]
    },
    {
      "cell_type": "code",
      "metadata": {
        "colab": {
          "base_uri": "https://localhost:8080/"
        },
        "id": "rQLIvocF18Zd",
        "outputId": "81a86fff-63a9-4212-bd06-320b9dc70011"
      },
      "source": [
        "company_0={'name':'Curvelogics'}\n",
        "company_1={'name':'Infosys'}\n",
        "company_2={'name':'TCS'}\n",
        "company=[company_0,company_1,company_2]\n",
        "print(company)\n",
        "company_2={'name':'TCS','place':['Trivandrum','Ernakulam']}\n",
        "print(company_2.values())"
      ],
      "execution_count": null,
      "outputs": [
        {
          "output_type": "stream",
          "text": [
            "[{'name': 'Curvelogics'}, {'name': 'Infosys'}, {'name': 'TCS'}]\n",
            "dict_values(['TCS', ['Trivandrum', 'Ernakulam']])\n"
          ],
          "name": "stdout"
        }
      ]
    },
    {
      "cell_type": "code",
      "metadata": {
        "colab": {
          "base_uri": "https://localhost:8080/"
        },
        "id": "fHdARkZU3WMH",
        "outputId": "bb15377d-360b-436e-bd47-aae047b00385"
      },
      "source": [
        "name=input(\"Enter your name:\")\n",
        "print(\"Hello\",name)"
      ],
      "execution_count": null,
      "outputs": [
        {
          "output_type": "stream",
          "text": [
            "Enter your name:John\n",
            "Hello John\n"
          ],
          "name": "stdout"
        }
      ]
    },
    {
      "cell_type": "code",
      "metadata": {
        "colab": {
          "base_uri": "https://localhost:8080/"
        },
        "id": "cyq__HqW3wQ-",
        "outputId": "50a4cbe8-556a-4621-d257-048d59aa7215"
      },
      "source": [
        "a=int(input(\"Enter the first number:\"))\n",
        "b=int(input(\"Enter the second number:\"))\n",
        "print(a+b)\n",
        "print(a-b)\n",
        "print(a*b)\n",
        "print(a/b)\n",
        "print(a%b)\n",
        "print(a**b)\n",
        "print(a//b)"
      ],
      "execution_count": null,
      "outputs": [
        {
          "output_type": "stream",
          "text": [
            "Enter the first number:30\n",
            "Enter the second number:3\n",
            "33\n",
            "27\n",
            "90\n",
            "10.0\n",
            "0\n",
            "27000\n",
            "10\n"
          ],
          "name": "stdout"
        }
      ]
    },
    {
      "cell_type": "code",
      "metadata": {
        "colab": {
          "base_uri": "https://localhost:8080/"
        },
        "id": "6nR_J0XI5TxJ",
        "outputId": "6185e810-4f57-4b11-8f26-dfc56efca56c"
      },
      "source": [
        "a=int(input(\"Enter the first number:\"))\n",
        "b=int(input(\"Enter the second number:\"))\n",
        "print(a==b)\n",
        "print(a>b)\n",
        "print(a<b)\n",
        "print(a>=b)\n",
        "print(a<=b)"
      ],
      "execution_count": null,
      "outputs": [
        {
          "output_type": "stream",
          "text": [
            "Enter the first number:30\n",
            "Enter the second number:20\n",
            "False\n",
            "True\n",
            "False\n",
            "True\n",
            "False\n"
          ],
          "name": "stdout"
        }
      ]
    },
    {
      "cell_type": "code",
      "metadata": {
        "colab": {
          "base_uri": "https://localhost:8080/"
        },
        "id": "hOWDtuea8ck7",
        "outputId": "aed060c5-81fe-4803-9ac9-250798aa4676"
      },
      "source": [
        "import math\n",
        "print(math.pi)\n",
        "print(math.e)\n",
        "print(math.sqrt(36))"
      ],
      "execution_count": null,
      "outputs": [
        {
          "output_type": "stream",
          "text": [
            "3.141592653589793\n",
            "2.718281828459045\n",
            "6.0\n"
          ],
          "name": "stdout"
        }
      ]
    },
    {
      "cell_type": "code",
      "metadata": {
        "colab": {
          "base_uri": "https://localhost:8080/"
        },
        "id": "TEm_CHtq9dFn",
        "outputId": "9a3bebe4-7054-4ef7-a601-49e6f73f5cb9"
      },
      "source": [
        "num=10\n",
        "if num>=0:\n",
        "  print(\"Positive or Zero\")"
      ],
      "execution_count": null,
      "outputs": [
        {
          "output_type": "stream",
          "text": [
            "Positive or Zero\n"
          ],
          "name": "stdout"
        }
      ]
    },
    {
      "cell_type": "code",
      "metadata": {
        "colab": {
          "base_uri": "https://localhost:8080/"
        },
        "id": "HXVNdL7v-ScG",
        "outputId": "3c2adcce-62c9-42f5-9d7e-4ab4f1b4ee40"
      },
      "source": [
        "num=10\n",
        "if num>=0:\n",
        "  print(\"Positive or Zero\")\n",
        "else:\n",
        "  print(\"Negative\")"
      ],
      "execution_count": null,
      "outputs": [
        {
          "output_type": "stream",
          "text": [
            "Positive or Zero\n"
          ],
          "name": "stdout"
        }
      ]
    },
    {
      "cell_type": "code",
      "metadata": {
        "colab": {
          "base_uri": "https://localhost:8080/"
        },
        "id": "JlNcqxXl_hH6",
        "outputId": "88de6406-0149-407d-a59a-a5309ee542b3"
      },
      "source": [
        "num=int(input(\"Enter the number:\"))\n",
        "if num>0:\n",
        "  print(\"Positive number\")\n",
        "elif num==0:\n",
        "  print(\"Zero\")\n",
        "else:\n",
        "  print(\"Negative number\")"
      ],
      "execution_count": null,
      "outputs": [
        {
          "output_type": "stream",
          "text": [
            "Enter the number:-27\n",
            "Negative number\n"
          ],
          "name": "stdout"
        }
      ]
    },
    {
      "cell_type": "code",
      "metadata": {
        "colab": {
          "base_uri": "https://localhost:8080/"
        },
        "id": "9AcrqAu_Beb7",
        "outputId": "4ca8acfd-d6da-4a1a-ba3c-9f96f161a39a"
      },
      "source": [
        "names=[\"Shinma\",\"Remya\",\"Nikita\",\"Emil\"]\n",
        "for name in names:\n",
        "  print(name)\n",
        "for n in range(10):\n",
        "  print(n)"
      ],
      "execution_count": null,
      "outputs": [
        {
          "output_type": "stream",
          "text": [
            "Shinma\n",
            "Remya\n",
            "Nikita\n",
            "Emil\n",
            "0\n",
            "1\n",
            "2\n",
            "3\n",
            "4\n",
            "5\n",
            "6\n",
            "7\n",
            "8\n",
            "9\n"
          ],
          "name": "stdout"
        }
      ]
    },
    {
      "cell_type": "code",
      "metadata": {
        "colab": {
          "base_uri": "https://localhost:8080/"
        },
        "id": "oFV4KDNICWoj",
        "outputId": "01e52aeb-bd6d-48e7-bf69-e6092825eda5"
      },
      "source": [
        "company={'place':'Trivandrum','name':'Curvelogics'}\n",
        "for key,value in company.items():\n",
        "   print('% s:% s'%(key,value))"
      ],
      "execution_count": null,
      "outputs": [
        {
          "output_type": "stream",
          "text": [
            "place:Trivandrum\n",
            "name:Curvelogics\n"
          ],
          "name": "stdout"
        }
      ]
    },
    {
      "cell_type": "code",
      "metadata": {
        "colab": {
          "base_uri": "https://localhost:8080/"
        },
        "id": "icapDNpmEXbh",
        "outputId": "12f9aa83-afc8-49f0-8533-f3897061fef0"
      },
      "source": [
        "doubled1=[num*2 for num in range(10)]\n",
        "print(doubled1)\n",
        "doubled2=[]\n",
        "for num in range(10):\n",
        "  doubled2.append(num*2)\n",
        "print(doubled2)"
      ],
      "execution_count": null,
      "outputs": [
        {
          "output_type": "stream",
          "text": [
            "[0, 2, 4, 6, 8, 10, 12, 14, 16, 18]\n",
            "[0, 2, 4, 6, 8, 10, 12, 14, 16, 18]\n"
          ],
          "name": "stdout"
        }
      ]
    },
    {
      "cell_type": "code",
      "metadata": {
        "colab": {
          "base_uri": "https://localhost:8080/"
        },
        "id": "sW0WKFuwFMLd",
        "outputId": "b0d51ec9-a45a-4f32-cbe9-0633694404c1"
      },
      "source": [
        "num=0\n",
        "while num<=10:\n",
        "  print (num)\n",
        "  num=num+1"
      ],
      "execution_count": null,
      "outputs": [
        {
          "output_type": "stream",
          "text": [
            "0\n",
            "1\n",
            "2\n",
            "3\n",
            "4\n",
            "5\n",
            "6\n",
            "7\n",
            "8\n",
            "9\n",
            "10\n"
          ],
          "name": "stdout"
        }
      ]
    },
    {
      "cell_type": "code",
      "metadata": {
        "id": "6q_XI8haGAju",
        "colab": {
          "base_uri": "https://localhost:8080/"
        },
        "outputId": "b44cda94-a466-441f-f537-12d16a3f8c21"
      },
      "source": [
        "prompt=\"\\n Please enter the name of a city you have visited:\"\n",
        "prompt+=\"\\n (Enter 'quit' when you are finished.)\"\n",
        "while True:\n",
        "  city=input(prompt)\n",
        "  if city=='quit':\n",
        "    break\n",
        "  else:\n",
        "    print(\"I'd love to go to \"+city.title()+\"!\")"
      ],
      "execution_count": null,
      "outputs": [
        {
          "output_type": "stream",
          "text": [
            "\n",
            " Please enter the name of a city you have visited:\n",
            " (Enter 'quit' when you are finished.)quit\n"
          ],
          "name": "stdout"
        }
      ]
    },
    {
      "cell_type": "code",
      "metadata": {
        "colab": {
          "base_uri": "https://localhost:8080/"
        },
        "id": "CluQWXr-L5T8",
        "outputId": "360feef0-7d4e-41ca-cb9e-ae8ffa1a8b48"
      },
      "source": [
        "current_number=0\n",
        "while current_number<10:\n",
        "  current_number+=1\n",
        "  if current_number%2==0:\n",
        "    continue\n",
        "  print(current_number)"
      ],
      "execution_count": null,
      "outputs": [
        {
          "output_type": "stream",
          "text": [
            "1\n",
            "3\n",
            "5\n",
            "7\n",
            "9\n"
          ],
          "name": "stdout"
        }
      ]
    }
  ]
}